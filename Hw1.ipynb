{
 "cells": [
  {
   "attachments": {},
   "cell_type": "markdown",
   "metadata": {},
   "source": [
    "Завдання\n",
    "\n",
    "1. Створіть одновимірний масив (вектор) з першими 10-ма натуральними числами та виведіть його значення.\n",
    "2. Створіть двовимірний масив (матрицю) розміром 3x3, заповніть його нулями та виведіть його значення.\n",
    "3. Створіть масив розміром 5x5, заповніть його випадковими цілими числами в діапазоні від 1 до 10 та виведіть його значення.\n",
    "4. Створіть масив розміром 4x4, заповніть його випадковими дійсними числами в діапазоні від 0 до 1 та виведіть його значення.\n",
    "5. Створіть два одновимірних масиви розміром 5, заповніть їх випадковими цілими числами в діапазоні від 1 до 10 та виконайте на них поелементні операції додавання, віднімання та множення.\n",
    "6. Створіть два вектори розміром 7, заповніть довільними числами та знайдіть їх скалярний добуток.\n",
    "7. Створіть дві матриці розміром 2x2 та 2x3, заповніть їх випадковими цілими числами в діапазоні від 1 до 10 та перемножте їх між собою.\n",
    "8. Створіть матрицю розміром 3x3, заповніть її випадковими цілими числами в діапазоні від 1 до 10 та знайдіть її обернену матрицю.\n",
    "9. Створіть матрицю розміром 4x4, заповніть її випадковими дійсними числами в діапазоні від 0 до 1 та транспонуйте її.\n",
    "10. Створіть матрицю розміром 3x4 та вектор розміром 4, заповніть їх випадковими цілими числами в діапазоні від 1 до 10 та перемножте матрицю на вектор.\n",
    "11. Створіть матрицю розміром 2x3 та вектор розміром 3, заповніть їх випадковими дійсними числами в діапазоні від 0 до 1 та перемножте матрицю на вектор.\n",
    "12. Створіть дві матриці розміром 2x2, заповніть їх випадковими цілими числами в діапазоні від 1 до 10 та виконайте їхнє поелементне множення.\n",
    "13. Створіть дві матриці розміром 2x2, заповніть їх випадковими цілими числами в діапазоні від 1 до 10 та знайдіть їх добуток.\n",
    "14. Створіть матрицю розміром 5x5, заповніть її випадковими цілими числами в діапазоні від 1 до 100 та знайдіть суму елементів матриці.\n",
    "15. Створіть дві матриці розміром 4x4, заповніть їх випадковими цілими числами в діапазоні від 1 до 10 та знайдіть їхню різницю.\n",
    "16. Створіть матрицю розміром 3x3, заповніть її випадковими дійсними числами в діапазоні від 0 до 1 та знайдіть вектор-стовпчик, що містить суму елементів кожного рядка матриці.\n",
    "17. Створіть матрицю розміром 3x4 з довільними цілими числами і створінь матрицю з квадратами цих чисел.\n",
    "18. Створіть вектор розміром 4, заповніть його випадковими цілими числами в діапазоні від 1 до 50 та знайдіть вектор з квадратними коренями цих чисел."
   ]
  },
  {
   "cell_type": "code",
   "execution_count": 1,
   "metadata": {},
   "outputs": [
    {
     "name": "stdout",
     "output_type": "stream",
     "text": [
      "task 1\n",
      "[ 1.  2.  3.  4.  5.  6.  7.  8.  9. 10. 11.]\n"
     ]
    }
   ],
   "source": [
    "print('task 1')\n",
    "\n",
    "import numpy as np\n",
    "\n",
    "a = np.array([1, 2, 3, 4, 5, 6, 7, 8, 9, 10, 11], dtype = float)\n",
    "print(a)"
   ]
  },
  {
   "cell_type": "code",
   "execution_count": 2,
   "metadata": {},
   "outputs": [
    {
     "name": "stdout",
     "output_type": "stream",
     "text": [
      "tast 2\n",
      "[[0 0 0]\n",
      " [0 0 0]\n",
      " [0 0 0]]\n"
     ]
    }
   ],
   "source": [
    "print('tast 2')\n",
    "\n",
    "a = np.array([[0, 0, 0],\n",
    "              [0, 0, 0],\n",
    "              [0, 0, 0]], dtype = int)\n",
    "print(a)"
   ]
  },
  {
   "cell_type": "code",
   "execution_count": 3,
   "metadata": {},
   "outputs": [
    {
     "name": "stdout",
     "output_type": "stream",
     "text": [
      "task 3\n",
      "[[1 9 7 2 1]\n",
      " [8 7 1 8 2]\n",
      " [5 4 6 9 6]\n",
      " [8 3 4 9 2]\n",
      " [7 7 6 5 8]]\n"
     ]
    }
   ],
   "source": [
    "print('task 3')\n",
    "\n",
    "a = np.random.randint(1, 10, size = (5, 5))\n",
    "print(a)"
   ]
  },
  {
   "cell_type": "code",
   "execution_count": 4,
   "metadata": {},
   "outputs": [
    {
     "name": "stdout",
     "output_type": "stream",
     "text": [
      "task 4\n",
      "[[0.28089969 0.90806698 0.12149409 0.71743113]\n",
      " [0.13579397 0.99636676 0.60549075 0.30401364]\n",
      " [0.55008177 0.78573476 0.22620869 0.71034876]\n",
      " [0.30927712 0.77555861 0.75345057 0.88840612]]\n"
     ]
    }
   ],
   "source": [
    "print('task 4')\n",
    "\n",
    "a = np.random.rand(4, 4)\n",
    "print(a)"
   ]
  },
  {
   "cell_type": "code",
   "execution_count": 5,
   "metadata": {},
   "outputs": [
    {
     "name": "stdout",
     "output_type": "stream",
     "text": [
      "task 5\n",
      "Вектор 1: [10  6  1  1  1]\n",
      "Вектор 2: [ 6 10  1  9  8]\n",
      "Сума: [16 16  2 10  9]\n",
      "Віднімання: [ 4 -4  0 -8 -7]\n",
      "Множення: [60 60  1  9  8]\n"
     ]
    }
   ],
   "source": [
    "print ('task 5')\n",
    "\n",
    "a = np.random.randint(1, 11, size = (5))\n",
    "b = np.random.randint(1, 11, size = (5))\n",
    "\n",
    "print('Вектор 1:', a)\n",
    "print('Вектор 2:', b)\n",
    "\n",
    "sum_result = np.add(a, b)\n",
    "print('Сума:', sum_result)\n",
    "\n",
    "subtract_result = np.subtract(a, b)\n",
    "print('Віднімання:', subtract_result)\n",
    "\n",
    "multiply_result = np.multiply(a, b)\n",
    "print('Множення:', multiply_result)"
   ]
  },
  {
   "cell_type": "code",
   "execution_count": 6,
   "metadata": {},
   "outputs": [
    {
     "name": "stdout",
     "output_type": "stream",
     "text": [
      "task 6\n",
      "Скалярний добуток: 161\n"
     ]
    }
   ],
   "source": [
    "print('task 6')\n",
    "\n",
    "a = np.random.randint(1, 11, size = (7))\n",
    "b = np.random.randint(1, 11, size = (7))\n",
    "\n",
    "scalar_results = np.dot(a, b)\n",
    "print('Скалярний добуток:', scalar_results)"
   ]
  },
  {
   "cell_type": "code",
   "execution_count": 7,
   "metadata": {},
   "outputs": [
    {
     "name": "stdout",
     "output_type": "stream",
     "text": [
      "tast 8\n",
      "Початкова матриця:\n",
      "[[5 7 1]\n",
      " [1 7 5]\n",
      " [1 3 5]]\n",
      "Обернена матриця:\n",
      "[[ 2.08333333e-01 -3.33333333e-01  2.91666667e-01]\n",
      " [-4.95635279e-18  2.50000000e-01 -2.50000000e-01]\n",
      " [-4.16666667e-02 -8.33333333e-02  2.91666667e-01]]\n"
     ]
    }
   ],
   "source": [
    "print('tast 8')\n",
    "\n",
    "matrix = np.random.randint(1, 11, size=(3, 3))\n",
    "print('Початкова матриця:')\n",
    "print(matrix)\n",
    "\n",
    "inv_matrix = np.linalg.inv(matrix)\n",
    "print('Обернена матриця:')\n",
    "print(inv_matrix)\n"
   ]
  },
  {
   "cell_type": "code",
   "execution_count": 8,
   "metadata": {},
   "outputs": [
    {
     "name": "stdout",
     "output_type": "stream",
     "text": [
      "task 9\n",
      "Початкова матриця:\n",
      "[[0.46157642 0.16534675 0.91056005 0.53037604]\n",
      " [0.45079655 0.88939757 0.09459879 0.89145012]\n",
      " [0.54717427 0.34657775 0.03810038 0.81363954]\n",
      " [0.25533353 0.52392147 0.14370908 0.82370378]]\n",
      "Транспонована матриця:\n",
      "[[0.46157642 0.45079655 0.54717427 0.25533353]\n",
      " [0.16534675 0.88939757 0.34657775 0.52392147]\n",
      " [0.91056005 0.09459879 0.03810038 0.14370908]\n",
      " [0.53037604 0.89145012 0.81363954 0.82370378]]\n"
     ]
    }
   ],
   "source": [
    "print('task 9')\n",
    "\n",
    "matrix = np.random.rand(4, 4)\n",
    "print('Початкова матриця:')\n",
    "print(matrix)\n",
    "\n",
    "matrix_transpose = matrix.T\n",
    "print('Транспонована матриця:')\n",
    "print(matrix_transpose)"
   ]
  },
  {
   "cell_type": "code",
   "execution_count": 9,
   "metadata": {},
   "outputs": [
    {
     "name": "stdout",
     "output_type": "stream",
     "text": [
      "task 10\n",
      "Перемноження:\n",
      "[[20  9 35 21]\n",
      " [ 4  2 35 35]\n",
      " [16  2 15 35]]\n"
     ]
    }
   ],
   "source": [
    "print('task 10')\n",
    "\n",
    "matrix = np.random.randint(1, 11, size=(3, 4))\n",
    "a = np.random.randint(1, 11, size=(4))\n",
    "\n",
    "multiply_result = np.multiply(matrix, a)\n",
    "print('Перемноження:')\n",
    "print(multiply_result)"
   ]
  },
  {
   "cell_type": "code",
   "execution_count": 10,
   "metadata": {},
   "outputs": [
    {
     "name": "stdout",
     "output_type": "stream",
     "text": [
      "task 11\n",
      "Перемноження:\n",
      "[[0.15452634 0.15613459 0.17188429]\n",
      " [0.34134252 0.33310438 0.25769105]]\n"
     ]
    }
   ],
   "source": [
    "print('task 11')\n",
    "\n",
    "matrix = np.random.rand(2, 3)\n",
    "a = np.random.rand(3)\n",
    "\n",
    "multiply_result = np.multiply(matrix, a)\n",
    "print('Перемноження:')\n",
    "print(multiply_result)"
   ]
  },
  {
   "cell_type": "code",
   "execution_count": 11,
   "metadata": {},
   "outputs": [
    {
     "name": "stdout",
     "output_type": "stream",
     "text": [
      "task 12\n",
      "Перша матриця:\n",
      "[[ 7  1]\n",
      " [10  9]]\n",
      "Друга матриця:\n",
      "[[2 1]\n",
      " [4 7]]\n",
      "Перемноження:\n",
      "[[14  1]\n",
      " [40 63]]\n"
     ]
    }
   ],
   "source": [
    "print('task 12')\n",
    "\n",
    "matrix_1 = np.random.randint(1, 11, size=(2, 2))\n",
    "print('Перша матриця:')\n",
    "print(matrix_1)\n",
    "\n",
    "matrix_2 = np.random.randint(1, 11, size=(2, 2))\n",
    "print('Друга матриця:')\n",
    "print (matrix_2)\n",
    "\n",
    "multiply_result = np.multiply(matrix_1, matrix_2)\n",
    "print('Перемноження:')\n",
    "print(multiply_result)"
   ]
  },
  {
   "cell_type": "code",
   "execution_count": 12,
   "metadata": {},
   "outputs": [
    {
     "name": "stdout",
     "output_type": "stream",
     "text": [
      "task 13\n",
      "Перша матриця:\n",
      "[[6 8]\n",
      " [7 2]]\n",
      "Друга матриця:\n",
      "[[8 2]\n",
      " [2 6]]\n",
      "Добуток:\n",
      "[[64 60]\n",
      " [60 26]]\n"
     ]
    }
   ],
   "source": [
    "print('task 13')\n",
    "\n",
    "matrix_1 = np.random.randint(1, 11, size=(2, 2))\n",
    "print('Перша матриця:')\n",
    "print(matrix_1)\n",
    "\n",
    "matrix_2 = np.random.randint(1, 11, size=(2, 2))\n",
    "print('Друга матриця:')\n",
    "print (matrix_2)\n",
    "\n",
    "dot_result = np.dot(matrix_1, matrix_2)\n",
    "print('Добуток:')\n",
    "print(dot_result)"
   ]
  },
  {
   "cell_type": "code",
   "execution_count": 13,
   "metadata": {},
   "outputs": [
    {
     "name": "stdout",
     "output_type": "stream",
     "text": [
      "task 14\n",
      "Сума елементів: 1002\n"
     ]
    }
   ],
   "source": [
    "print ('task 14')\n",
    "\n",
    "matrix = np.random.randint(1, 101, size=(5, 5))\n",
    "print('Сума елементів:', matrix.sum())"
   ]
  },
  {
   "cell_type": "code",
   "execution_count": 14,
   "metadata": {},
   "outputs": [
    {
     "name": "stdout",
     "output_type": "stream",
     "text": [
      "task 15\n",
      "Перша матриця:\n",
      "[[ 2  5  3  6]\n",
      " [ 6  2  6  6]\n",
      " [ 9  5 10  3]\n",
      " [ 1 10  2  2]]\n",
      "Друга матриця:\n",
      "[[10 10  4  8]\n",
      " [ 4  3  7  4]\n",
      " [ 3 10  1  8]\n",
      " [ 6  7  2  1]]\n",
      "Різниця:\n",
      "[[-8 -5 -1 -2]\n",
      " [ 2 -1 -1  2]\n",
      " [ 6 -5  9 -5]\n",
      " [-5  3  0  1]]\n"
     ]
    }
   ],
   "source": [
    "print ('task 15')\n",
    "\n",
    "matrix_1 = np.random.randint(1, 11, size = (4, 4))\n",
    "print('Перша матриця:')\n",
    "print(matrix_1)\n",
    "\n",
    "matrix_2 = np.random.randint(1, 11, size = (4, 4))\n",
    "print('Друга матриця:')\n",
    "print(matrix_2)\n",
    "\n",
    "subtract_result = np.subtract(matrix_1, matrix_2)\n",
    "print('Різниця:')\n",
    "print(subtract_result)"
   ]
  },
  {
   "cell_type": "code",
   "execution_count": 15,
   "metadata": {},
   "outputs": [
    {
     "name": "stdout",
     "output_type": "stream",
     "text": [
      "task 16\n",
      "Початкова матриця:\n",
      "[[0.393216   0.52401939 0.8106907 ]\n",
      " [0.2462041  0.60304516 0.28294642]\n",
      " [0.53861317 0.94257702 0.01319065]]\n",
      "Вектор-стовпчик з сумами елементів кожного рядка:\n",
      "[[1.72792608]\n",
      " [1.13219567]\n",
      " [1.49438084]]\n"
     ]
    }
   ],
   "source": [
    "print('task 16')\n",
    "\n",
    "matrix = np.random.rand(3, 3)\n",
    "print(\"Початкова матриця:\")\n",
    "print(matrix)\n",
    "\n",
    "\n",
    "row_sums = np.sum(matrix, axis=1, keepdims=True)\n",
    "print('Вектор-стовпчик з сумами елементів кожного рядка:')\n",
    "print(row_sums)\n"
   ]
  },
  {
   "cell_type": "code",
   "execution_count": 16,
   "metadata": {},
   "outputs": [
    {
     "name": "stdout",
     "output_type": "stream",
     "text": [
      "task 17\n",
      "Початкова матриця:\n",
      "[[1 2 9 7]\n",
      " [3 2 9 3]\n",
      " [4 8 6 1]]\n",
      "Матриця з квадратами чисел:\n",
      "[[ 1  4 81 49]\n",
      " [ 9  4 81  9]\n",
      " [16 64 36  1]]\n"
     ]
    }
   ],
   "source": [
    "print('task 17')\n",
    "\n",
    "matrix = np.random.randint(1, 11, size=(3, 4))\n",
    "print(\"Початкова матриця:\")\n",
    "print(matrix)\n",
    "\n",
    "squared_matrix = np.square(matrix)\n",
    "\n",
    "print(\"Матриця з квадратами чисел:\")\n",
    "print(squared_matrix)\n"
   ]
  },
  {
   "cell_type": "code",
   "execution_count": 17,
   "metadata": {},
   "outputs": [
    {
     "name": "stdout",
     "output_type": "stream",
     "text": [
      "task 18\n",
      "Початковий вектор:\n",
      "[13 20 34 22]\n",
      "Вектор з квадратними коренями:\n",
      "[3.60555128 4.47213595 5.83095189 4.69041576]\n"
     ]
    }
   ],
   "source": [
    "print('task 18')\n",
    "\n",
    "vector = np.random.randint(1, 51, size=(4))\n",
    "print(\"Початковий вектор:\")\n",
    "print(vector)\n",
    "\n",
    "vector_sqrt = np.sqrt(vector)\n",
    "print(\"Вектор з квадратними коренями:\")\n",
    "print(vector_sqrt)\n"
   ]
  }
 ],
 "metadata": {
  "kernelspec": {
   "display_name": "Python 3",
   "language": "python",
   "name": "python3"
  },
  "language_info": {
   "codemirror_mode": {
    "name": "ipython",
    "version": 3
   },
   "file_extension": ".py",
   "mimetype": "text/x-python",
   "name": "python",
   "nbconvert_exporter": "python",
   "pygments_lexer": "ipython3",
   "version": "3.11.3"
  },
  "orig_nbformat": 4
 },
 "nbformat": 4,
 "nbformat_minor": 2
}
