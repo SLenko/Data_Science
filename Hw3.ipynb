{
 "cells": [
  {
   "cell_type": "markdown",
   "metadata": {},
   "source": [
    "Дане домашнє завдання буде повністю пов'язане з лінійною регресією та її реалізацією. Отож розіб'ємо наше домашнє завдання на декілька частин:\n",
    "\n",
    "1. Hапишіть функцію гіпотези лінійної регресії у векторному вигляді;\n",
    "2. Cтворіть функцію для обчислення функції втрат у векторному вигляді;\n",
    "3. Реалізуйте один крок градієнтного спуску;\n",
    "4. Знайдіть найкращі параметри 𝑤 для датасету прогнозуючу ціну на будинок залежно від площі, кількості ванних кімнат та кількості спалень;\n",
    "5. Знайдіть ці ж параметри за допомогою аналітичного рішення;\n",
    "6. Порівняйте отримані результати."
   ]
  },
  {
   "cell_type": "code",
   "execution_count": 13,
   "metadata": {},
   "outputs": [
    {
     "name": "stdout",
     "output_type": "stream",
     "text": [
      "Iteration 0: Cost 13081800066065.04\n",
      "Iteration 100: Cost 10817014592080.506\n",
      "Iteration 200: Cost 8977425815685.707\n",
      "Iteration 300: Cost 7482137521554.628\n",
      "Iteration 400: Cost 6265909489352.89\n",
      "Iteration 500: Cost 5276062521197.249\n",
      "Iteration 600: Cost 4470011018932.831\n",
      "Iteration 700: Cost 3813292145064.912\n",
      "Iteration 800: Cost 3277988792662.085\n",
      "Iteration 900: Cost 2841465519634.4927\n",
      "Optimal parameters (Gradient Descent): [3014024.71220283  568187.7437134   510593.80112541  312295.38296115]\n",
      "Optimal parameters (Analytical): [4766729.24770642  821214.14349519  695808.52272538  299983.57107963]\n",
      "Gradient descent parameters: [3014024.71220283  568187.7437134   510593.80112541  312295.38296115]\n",
      "Analytical solution parameters: [4766729.24770642  821214.14349519  695808.52272538  299983.57107963]\n"
     ]
    }
   ],
   "source": [
    "import numpy as np\n",
    "import pandas as pd\n",
    "from sklearn.preprocessing import StandardScaler\n",
    "\n",
    "def hypothesis(X, w):\n",
    "    return np.dot(X, w)\n",
    "\n",
    "def compute_cost(X, y, w):\n",
    "    m = len(y)\n",
    "    predictions = hypothesis(X, w)\n",
    "    cost = (1 / (2 * m)) * np.sum((predictions - y) ** 2)\n",
    "    return cost\n",
    "\n",
    "def gradient_descent_step(X, y, w, alpha):\n",
    "    m = len(y)\n",
    "    predictions = hypothesis(X, w)\n",
    "    gradient = np.dot(X.T, (predictions - y)) / m\n",
    "    w = w - alpha * gradient\n",
    "    return w\n",
    "\n",
    "def linear_regression(X, y, alpha, iterations):\n",
    "    n = X.shape[1]\n",
    "    w = np.zeros(n)\n",
    "    for i in range(iterations):\n",
    "        w = gradient_descent_step(X, y, w, alpha)\n",
    "        if i % 100 == 0:\n",
    "            cost = compute_cost(X, y, w)\n",
    "            print(f\"Iteration {i}: Cost {cost}\")\n",
    "    return w\n",
    "\n",
    "def analytical_solution(X, y):\n",
    "    return np.linalg.inv(X.T @ X) @ X.T @ y\n",
    "\n",
    "# Завантаження даних\n",
    "data = pd.read_csv('Housing.csv')\n",
    "\n",
    "# Припускаємо, що назви колонок у файлі: 'Area', 'Bathrooms', 'Bedrooms', 'Price'\n",
    "X = data[['area', 'bathrooms', 'bedrooms']].values\n",
    "y = data['price'].values\n",
    "\n",
    "# Нормалізація даних\n",
    "scaler = StandardScaler()\n",
    "X = scaler.fit_transform(X)\n",
    "\n",
    "# Додавання стовпця одиниць для вільного члена\n",
    "X = np.concatenate([np.ones((X.shape[0], 1)), X], axis=1)\n",
    "\n",
    "# Налаштування параметрів\n",
    "alpha = 0.001  # Зменшуємо швидкість навчання\n",
    "iterations = 1000\n",
    "\n",
    "# Знаходження оптимальних параметрів\n",
    "w = linear_regression(X, y, alpha, iterations)\n",
    "print(f\"Optimal parameters (Gradient Descent): {w}\")\n",
    "\n",
    "# Знаходження параметрів аналітично\n",
    "w_analytical = analytical_solution(X, y)\n",
    "print(f\"Optimal parameters (Analytical): {w_analytical}\")\n",
    "\n",
    "# Порівняння отриманих результатів\n",
    "print(f\"Gradient descent parameters: {w}\")\n",
    "print(f\"Analytical solution parameters: {w_analytical}\")\n"
   ]
  }
 ],
 "metadata": {
  "kernelspec": {
   "display_name": "Python 3",
   "language": "python",
   "name": "python3"
  },
  "language_info": {
   "codemirror_mode": {
    "name": "ipython",
    "version": 3
   },
   "file_extension": ".py",
   "mimetype": "text/x-python",
   "name": "python",
   "nbconvert_exporter": "python",
   "pygments_lexer": "ipython3",
   "version": "3.11.3"
  }
 },
 "nbformat": 4,
 "nbformat_minor": 2
}
