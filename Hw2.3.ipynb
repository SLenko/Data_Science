{
 "cells": [
  {
   "attachments": {},
   "cell_type": "markdown",
   "metadata": {},
   "source": [
    "Частина третя: Аналіз датасет c Kaggle.com\n",
    "\n",
    "У цій частині домашньої роботи ми ще більше заглибимося в бібліотеку pandas та розглянемо просунутіші функції.\n",
    "\n",
    "Для цієї вправи ми використовуємо дані за Топ-50 рейтингом книг, що найбільше продаються на Amazon за 11 років (з 2009 по 2019). Датасет знаходиться у відкритому доступі на Kaggle.com. Завантажте файл csv за посиланням і перемістіть його в ту саму директорію, де знаходиться ваш робочий ноутбук (для зручності). Після цього переходьте до завдання\n",
    "\n",
    "Для виконання цієї частини домашнього завдання потрібно буде не тільки написати код, а й відповісти на супутні запитання. Там, де ви побачите виділений жирним шрифтом напис відповідь: потрібно буде вставити питання у файл і відповідь на нього.\n",
    "\n",
    "Наприклад:\n",
    "Яка бібліотека використовується для роботи з датафреймами у python? Відповідь: pandas\n",
    "\n",
    "Необхідно виконати:\n",
    "\n",
    "1. Прочитайте csv файл (використовуйте функцію read_csv)\n",
    "2. Виведіть перші п'ять рядків (використовується функція head)\n",
    "3. Виведіть розміри датасету (використовуйте атрибут shape)\n",
    "Відповідь: Про скільки книг зберігає дані датасет?\n",
    "\n",
    "Для кожної з книг доступні 7 змінних (колонок). Давайте розглянемо їх детальніше:\n",
    "\n",
    "Name - назва книги\n",
    "Author - автор\n",
    "User Rating - рейтинг (за 5-бальною шкалою)\n",
    "Reviews - кількість відгуків\n",
    "Price - ціна (у доларах станом на 2020 рік)\n",
    "Year - рік, коли книга потрапила до рейтингу Топ-50\n",
    "Genre - жанр\n",
    "\n",
    "Для спрощення подальшої роботи давайте трохи підправимо назви змінних. Як бачите, тут усі назви починаються з великої літери, а одна - навіть містить пробіл. Це дуже небажано і може бути досить незручним. Давайте змінимо регістр на малий, а пробіл замінимо на нижнє підкреслення (snake_style). А заразом і вивчимо корисний атрибут датафрейму: columns (можна просто присвоїти список нових імен цьому атрибуту)\n",
    "\n",
    "df.columns = ['name', 'author', 'user_rating', 'reviews', 'price', 'year', 'genre']\n",
    "\n",
    "\n",
    "Первинне дослідження даних\n",
    "\n",
    "1. Перевірте, чи у всіх рядків вистачає даних: виведіть кількість пропусків (na) у кожному зі стовпців (використовуйте функції isna та sum)\n",
    "\n",
    "Відповідь: Чи є в якихось змінних пропуски? (Так / ні)\n",
    "\n",
    "2. Перевірте, які є унікальні значення в колонці genre (використовуйте функцію unique)\n",
    "\n",
    "Відповідь: Які є унікальні жанри?\n",
    "\n",
    "3. Тепер подивіться на розподіл цін: побудуйте діаграму (використовуйте kind='hist')\n",
    "\n",
    "4. Визначте, яка ціна у нас максимальна, мінімальна, середня, медіанна (використовуйте функції max, min, mean, median)\n",
    "\n",
    "Відповідь: Максимальна ціна?\n",
    "Відповідь: Мінімальна ціна?\n",
    "Відповідь: Середня ціна?\n",
    "Відповідь: Медіанна ціна?\n",
    "\n",
    "\n",
    "Пошук та сортування даних\n",
    "\n",
    "Відповідь: Який рейтинг у датасеті найвищий? Відповідь:\n",
    "Відповідь: Скільки книг мають такий рейтинг? Відповідь:\n",
    "Відповідь: Яка книга має найбільше відгуків? Відповідь:\n",
    "Відповідь: З тих книг, що потрапили до Топ-50 у 2015 році, яка книга найдорожча (можна використати проміжний датафрейм)? Відповідь:\n",
    "Відповідь: Скільки книг жанру Fiction потрапили до Топ-50 у 2010 році (використовуйте &)? Відповідь:\n",
    "Відповідь: Скільки книг з рейтингом 4.9 потрапило до рейтингу у 2010 та 2011 роках (використовуйте | або функцію isin)? Відповідь:\n",
    "І на сам кінець, давайте відсортуємо за зростанням ціни всі книги, які потрапили до рейтингу в 2015 році і коштують дешевше за 8 доларів (використовуйте функцію sort_values).\n",
    "Відповідь: Яка книга остання у відсортованому списку? Відповідь:\n",
    "\n",
    "\n",
    "Агрегування даних та з'єднання таблиць\n",
    "\n",
    "Остання секція цього домашнього завдання включає просунутіші функції. Але не хвилюйтеся, pandas робить усі операції простими та зрозумілими.\n",
    "\n",
    "Для початку давайте подивимося на максимальну та мінімальну ціни для кожного з жанрів (використовуйте функції groupby та agg, для підрахунку мінімальних та максимальних значень використовуйте max та min). Не беріть усі стовпці, виберіть тільки потрібні вам\n",
    "\n",
    "Відповідь: Максимальна ціна для жанру Fiction: Відповідь\n",
    "Відповідь: Мінімальна ціна для жанру Fiction: Відповідь\n",
    "Відповідь: Максимальна ціна для жанру Non Fiction: Відповідь\n",
    "Відповідь: Мінімальна ціна для жанру Non Fiction: Відповідь\n",
    "\n",
    "Тепер створіть новий датафрейм, який вміщатиме кількість книг для кожного з авторів (використовуйте функції groupby та agg, для підрахунку кількості використовуйте count). Не беріть усі стовпці, виберете тільки потрібні\n",
    "\n",
    "Відповідь: Якої розмірності вийшла таблиця? Відповідь:\n",
    "Відповідь: Який автор має найбільше книг? Відповідь:\n",
    "Відповідь: Скільки книг цього автора? Відповідь:\n",
    "\n",
    "Тепер створіть другий датафрейм, який буде вміщати середній рейтинг для кожного автора (використовуйте функції groupby та agg, для підрахунку середнього значення використовуйте mean). Не беріть усі стовпці, виберете тільки потрібні\n",
    "\n",
    "Відповідь: У якого автора середній рейтинг мінімальний? Відповідь:\n",
    "Відповідь: Який у цього автора середній рейтинг? Відповідь:\n",
    "\n",
    "З'єднайте останні два датафрейми так, щоб для кожного автора було видно кількість книг та середній рейтинг (Використовуйте функцію concat з параметром axis=1). Збережіть результат у змінну\n",
    "\n",
    "Відсортуйте датафрейм за зростаючою кількістю книг та зростаючим рейтингом (використовуйте функцію sort_values)\n",
    "Відповідь: Який автор перший у списку?"
   ]
  },
  {
   "cell_type": "code",
   "execution_count": 19,
   "metadata": {},
   "outputs": [
    {
     "name": "stdout",
     "output_type": "stream",
     "text": [
      "Завантаження даних та початкове дослідження\n",
      "                                                Name  \\\n",
      "0                      10-Day Green Smoothie Cleanse   \n",
      "1                                  11/22/63: A Novel   \n",
      "2            12 Rules for Life: An Antidote to Chaos   \n",
      "3                             1984 (Signet Classics)   \n",
      "4  5,000 Awesome Facts (About Everything!) (Natio...   \n",
      "\n",
      "                     Author  User Rating  Reviews  Price  Year        Genre  \n",
      "0                  JJ Smith          4.7    17350      8  2016  Non Fiction  \n",
      "1              Stephen King          4.6     2052     22  2011      Fiction  \n",
      "2        Jordan B. Peterson          4.7    18979     15  2018  Non Fiction  \n",
      "3             George Orwell          4.7    21424      6  2017      Fiction  \n",
      "4  National Geographic Kids          4.8     7665     12  2019  Non Fiction  \n",
      "Про яку кількість книг містить інформацію датасет? 550\n"
     ]
    }
   ],
   "source": [
    "import pandas as pd\n",
    "\n",
    "print ('Завантаження даних та початкове дослідження')\n",
    "\n",
    "# Завантаження датасету\n",
    "df = pd.read_csv('bestsellers with categories.csv')\n",
    "\n",
    "# Виведення перших п'яти рядків\n",
    "print(df.head())\n",
    "\n",
    "# Виведення розмірів датасету\n",
    "#print(df.shape)\n",
    "\n",
    "num_books = df.shape[0]\n",
    "print(f\"Про яку кількість книг містить інформацію датасет? {num_books}\")\n"
   ]
  },
  {
   "cell_type": "code",
   "execution_count": 13,
   "metadata": {},
   "outputs": [
    {
     "name": "stdout",
     "output_type": "stream",
     "text": [
      "Зміна назв колонок та перевірка пропусків\n",
      "name           0\n",
      "author         0\n",
      "user_rating    0\n",
      "reviews        0\n",
      "price          0\n",
      "year           0\n",
      "genre          0\n",
      "dtype: int64\n"
     ]
    }
   ],
   "source": [
    "print ('Зміна назв колонок та перевірка пропусків')\n",
    "\n",
    "# Зміна назв колонок\n",
    "df.columns = ['name', 'author', 'user_rating', 'reviews', 'price', 'year', 'genre']\n",
    "\n",
    "# Перевірка пропусків\n",
    "print(df.isna().sum())"
   ]
  },
  {
   "cell_type": "code",
   "execution_count": 14,
   "metadata": {},
   "outputs": [
    {
     "name": "stdout",
     "output_type": "stream",
     "text": [
      "Унікальні жанри\n",
      "['Non Fiction' 'Fiction']\n"
     ]
    }
   ],
   "source": [
    "print ('Унікальні жанри')\n",
    "\n",
    "# Унікальні значення в колонці genre\n",
    "print(df['genre'].unique())"
   ]
  },
  {
   "cell_type": "code",
   "execution_count": 15,
   "metadata": {},
   "outputs": [
    {
     "name": "stdout",
     "output_type": "stream",
     "text": [
      "Розподіл цін\n",
      "Максимальна ціна: 105\n",
      "Мінімальна ціна: 0\n",
      "Середня ціна: 13.1\n",
      "Медіанна ціна: 11.0\n"
     ]
    },
    {
     "data": {
      "image/png": "[encoded data removed]",
      "text/plain": [
       "<Figure size 640x480 with 1 Axes>"
      ]
     },
     "metadata": {},
     "output_type": "display_data"
    }
   ],
   "source": [
    "print ('Розподіл цін')\n",
    "\n",
    "# Побудова гістограми цін\n",
    "df['price'].hist()\n",
    "\n",
    "# Максимальна, мінімальна, середня, медіанна ціна\n",
    "max_price = df['price'].max()\n",
    "min_price = df['price'].min()\n",
    "mean_price = df['price'].mean()\n",
    "median_price = df['price'].median()\n",
    "\n",
    "print(f\"Максимальна ціна: {max_price}\")\n",
    "print(f\"Мінімальна ціна: {min_price}\")\n",
    "print(f\"Середня ціна: {mean_price}\")\n",
    "print(f\"Медіанна ціна: {median_price}\")"
   ]
  },
  {
   "cell_type": "code",
   "execution_count": 16,
   "metadata": {},
   "outputs": [
    {
     "name": "stdout",
     "output_type": "stream",
     "text": [
      "Пошук та сортування даних\n",
      "Найвищий рейтинг: 4.9\n",
      "Кількість книг з найвищим рейтингом: 52\n",
      "Книга з найбільшою кількістю відгуків: Where the Crawdads Sing\n",
      "Найдорожча книга 2015 року: Publication Manual of the American Psychological Association, 6th Edition\n",
      "Кількість книг жанру Fiction у 2010 році: 20\n",
      "Кількість книг з рейтингом 4.9 у 2010 та 2011 роках: 1\n",
      "Остання книга у відсортованому списку: The Girl on the Train, автор: Paula Hawkins\n"
     ]
    }
   ],
   "source": [
    "print ('Пошук та сортування даних')\n",
    "\n",
    "# Найвищий рейтинг\n",
    "highest_rating = df['user_rating'].max()\n",
    "print(f\"Найвищий рейтинг: {highest_rating}\")\n",
    "\n",
    "# Кількість книг з найвищим рейтингом\n",
    "num_highest_rating = df[df['user_rating'] == highest_rating].shape[0]\n",
    "print(f\"Кількість книг з найвищим рейтингом: {num_highest_rating}\")\n",
    "\n",
    "# Книга з найбільшою кількістю відгуків\n",
    "most_reviews_book = df[df['reviews'] == df['reviews'].max()]['name'].values[0]\n",
    "print(f\"Книга з найбільшою кількістю відгуків: {most_reviews_book}\")\n",
    "\n",
    "# Найдорожча книга 2015 року\n",
    "most_expensive_2015 = df[df['year'] == 2015].sort_values(by='price', ascending=False).iloc[0]\n",
    "print(f\"Найдорожча книга 2015 року: {most_expensive_2015['name']}\")\n",
    "\n",
    "# Кількість книг жанру Fiction у 2010 році\n",
    "fiction_2010_count = df[(df['genre'] == 'Fiction') & (df['year'] == 2010)].shape[0]\n",
    "print(f\"Кількість книг жанру Fiction у 2010 році: {fiction_2010_count}\")\n",
    "\n",
    "# Кількість книг з рейтингом 4.9 у 2010 та 2011 роках\n",
    "high_rating_2010_2011 = df[(df['user_rating'] == 4.9) & (df['year'].isin([2010, 2011]))].shape[0]\n",
    "print(f\"Кількість книг з рейтингом 4.9 у 2010 та 2011 роках: {high_rating_2010_2011}\")\n",
    "\n",
    "# Сортування книг 2015 року дешевше за 8 доларів\n",
    "sorted_books_2015 = df[(df['year'] == 2016) & (df['price'] < 8)].sort_values(by='price')\n",
    "last_book_sorted = sorted_books_2015.iloc[-1]\n",
    "print(f\"Остання книга у відсортованому списку: {last_book_sorted['name']}, автор: {last_book_sorted['author']}\")\n"
   ]
  },
  {
   "cell_type": "code",
   "execution_count": 17,
   "metadata": {},
   "outputs": [
    {
     "name": "stdout",
     "output_type": "stream",
     "text": [
      "Агрегування даних\n",
      "             max  min\n",
      "genre                \n",
      "Fiction       82    0\n",
      "Non Fiction  105    0\n",
      "Автор з найбільшою кількістю книг: Jeff Kinney\n",
      "Кількість книг цього автора: 12\n",
      "Автор з найнижчим середнім рейтингом: Donna Tartt\n",
      "Середній рейтинг цього автора: 3.9\n",
      "Перший автор у відсортованому списку: Muriel Barbery\n"
     ]
    }
   ],
   "source": [
    "print ('Агрегування даних')\n",
    "\n",
    "# Максимальна та мінімальна ціни для кожного жанру\n",
    "genre_price_stats = df.groupby('genre')['price'].agg(['max', 'min'])\n",
    "print(genre_price_stats)\n",
    "\n",
    "# Кількість книг для кожного автора\n",
    "author_book_count = df.groupby('author')['name'].count().reset_index()\n",
    "author_book_count.columns = ['author', 'book_count']\n",
    "\n",
    "# Автор з найбільшою кількістю книг\n",
    "top_author = author_book_count.loc[author_book_count['book_count'].idxmax()]\n",
    "print(f\"Автор з найбільшою кількістю книг: {top_author['author']}\")\n",
    "print(f\"Кількість книг цього автора: {top_author['book_count']}\")\n",
    "\n",
    "# Середній рейтинг для кожного автора\n",
    "author_avg_rating = df.groupby('author')['user_rating'].mean().reset_index()\n",
    "author_avg_rating.columns = ['author', 'avg_rating']\n",
    "\n",
    "# Автор з найнижчим середнім рейтингом\n",
    "lowest_avg_rating_author = author_avg_rating.loc[author_avg_rating['avg_rating'].idxmin()]\n",
    "print(f\"Автор з найнижчим середнім рейтингом: {lowest_avg_rating_author['author']}\")\n",
    "print(f\"Середній рейтинг цього автора: {lowest_avg_rating_author['avg_rating']}\")\n",
    "\n",
    "# Об'єднання таблиць\n",
    "author_stats = pd.concat([author_book_count.set_index('author'), author_avg_rating.set_index('author')], axis=1)\n",
    "\n",
    "# Сортування за кількістю книг та рейтингом\n",
    "sorted_author_stats = author_stats.sort_values(by=['book_count', 'avg_rating'])\n",
    "print(f\"Перший автор у відсортованому списку: {sorted_author_stats.index[0]}\")"
   ]
  }
 ],
 "metadata": {
  "kernelspec": {
   "display_name": "Python 3",
   "language": "python",
   "name": "python3"
  },
  "language_info": {
   "codemirror_mode": {
    "name": "ipython",
    "version": 3
   },
   "file_extension": ".py",
   "mimetype": "text/x-python",
   "name": "python",
   "nbconvert_exporter": "python",
   "pygments_lexer": "ipython3",
   "version": "3.11.3"
  },
  "orig_nbformat": 4
 },
 "nbformat": 4,
 "nbformat_minor": 2
}
