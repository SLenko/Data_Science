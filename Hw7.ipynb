{
 "cells": [
  {
   "cell_type": "markdown",
   "metadata": {},
   "source": [
    "Домашнє завдання\n",
    "\n",
    "На цьому тижні ми вивчили як працюють рекомендаційні системи. Пропонуємо вам познайомитись з бібліотекою surprise, котра якраз є по суті додатком до знайомої нам бібліотеки scikit-learn для тренування моделей рекомендаційних систем.\n",
    "\n",
    "Візьміть датасет movielens і побудуйте модель матричної факторизації. У даній бібліотеці він має назву SVD. Підберіть найкращі параметри за допомогою крос-валідації, також поекспериментуйте з іншими алгоритмами розрахунків (SVD++, NMF) і оберіть той, який буде оптимальним.\n",
    "\n",
    "Підказки як саме побудувати дану модель ви знайдете в документації до даної бібліотеки."
   ]
  },
  {
   "cell_type": "code",
   "execution_count": 5,
   "metadata": {},
   "outputs": [
    {
     "name": "stdout",
     "output_type": "stream",
     "text": [
      "RMSE: 0.9408\n",
      "SVD RMSE: 0.9408317867738821\n",
      "Best SVD params: {'n_factors': 100, 'n_epochs': 20, 'lr_all': 0.01, 'reg_all': 0.05}\n",
      "Evaluating RMSE of algorithm SVDpp on 3 split(s).\n",
      "\n",
      "                  Fold 1  Fold 2  Fold 3  Mean    Std     \n",
      "RMSE (testset)    0.9270  0.9268  0.9251  0.9263  0.0008  \n",
      "Fit time          14.18   14.25   14.17   14.20   0.04    \n",
      "Test time         5.43    5.13    5.54    5.36    0.17    \n",
      "SVD++ RMSE: 0.9262829476939141\n",
      "Evaluating RMSE of algorithm NMF on 3 split(s).\n",
      "\n",
      "                  Fold 1  Fold 2  Fold 3  Mean    Std     \n",
      "RMSE (testset)    0.9666  0.9780  0.9768  0.9738  0.0051  \n",
      "Fit time          1.69    1.56    1.52    1.59    0.07    \n",
      "Test time         0.31    0.15    0.28    0.25    0.07    \n",
      "NMF RMSE: 0.9738146542355164\n"
     ]
    }
   ],
   "source": [
    "import pandas as pd\n",
    "from surprise import Dataset, Reader, SVD, SVDpp, NMF, accuracy\n",
    "from surprise.model_selection import train_test_split, cross_validate, GridSearchCV\n",
    "\n",
    "# Завантаження даних\n",
    "data = Dataset.load_builtin('ml-100k', prompt=True)\n",
    "\n",
    "# Поділ даних на тренувальні та тестові\n",
    "trainset, testset = train_test_split(data, test_size=0.25, random_state=42)\n",
    "\n",
    "# Створення та навчання моделі SVD\n",
    "model_svd = SVD()\n",
    "model_svd.fit(trainset)\n",
    "predictions_svd = model_svd.test(testset)\n",
    "print('SVD RMSE:', accuracy.rmse(predictions_svd))\n",
    "\n",
    "# Пошук найкращих параметрів для SVD\n",
    "param_grid = {\n",
    "    'n_factors': [50, 100],\n",
    "    'n_epochs': [20, 30],\n",
    "    'lr_all': [0.005, 0.01],\n",
    "    'reg_all': [0.02, 0.05]\n",
    "}\n",
    "gs = GridSearchCV(SVD, param_grid, measures=['rmse'], cv=3, n_jobs=-1, pre_dispatch='2*n_jobs')\n",
    "gs.fit(data)\n",
    "print('Best SVD params:', gs.best_params['rmse'])\n",
    "\n",
    "# Крос-валідація SVD++\n",
    "model_svdpp = SVDpp()\n",
    "results_svdpp = cross_validate(model_svdpp, data, measures=['rmse'], cv=3, verbose=True)\n",
    "print('SVD++ RMSE:', pd.DataFrame.from_dict(results_svdpp).mean()['test_rmse'])\n",
    "\n",
    "# Крос-валідація NMF\n",
    "model_nmf = NMF()\n",
    "results_nmf = cross_validate(model_nmf, data, measures=['rmse'], cv=3, verbose=True)\n",
    "print('NMF RMSE:', pd.DataFrame.from_dict(results_nmf).mean()['test_rmse'])\n",
    "\n"
   ]
  },
  {
   "cell_type": "markdown",
   "metadata": {},
   "source": [
    "Отже, якщо потрібна максимальна точність – потрібно вибрати SVD++, якщо важлива швидкість – потрібно вибрати NMF, а якщо потрібен баланс між точністю і швидкістю – вибір SVD."
   ]
  }
 ],
 "metadata": {
  "kernelspec": {
   "display_name": "Python 3",
   "language": "python",
   "name": "python3"
  },
  "language_info": {
   "codemirror_mode": {
    "name": "ipython",
    "version": 3
   },
   "file_extension": ".py",
   "mimetype": "text/x-python",
   "name": "python",
   "nbconvert_exporter": "python",
   "pygments_lexer": "ipython3",
   "version": "3.11.3"
  }
 },
 "nbformat": 4,
 "nbformat_minor": 2
}
