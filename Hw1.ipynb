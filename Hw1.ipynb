{
 "cells": [
  {
   "attachments": {},
   "cell_type": "markdown",
   "metadata": {},
   "source": [
    "Завдання\n",
    "\n",
    "1. Створіть одновимірний масив (вектор) з першими 10-ма натуральними числами та виведіть його значення.\n",
    "2. Створіть двовимірний масив (матрицю) розміром 3x3, заповніть його нулями та виведіть його значення.\n",
    "3. Створіть масив розміром 5x5, заповніть його випадковими цілими числами в діапазоні від 1 до 10 та виведіть його значення.\n",
    "4. Створіть масив розміром 4x4, заповніть його випадковими дійсними числами в діапазоні від 0 до 1 та виведіть його значення.\n",
    "5. Створіть два одновимірних масиви розміром 5, заповніть їх випадковими цілими числами в діапазоні від 1 до 10 та виконайте на них поелементні операції додавання, віднімання та множення.\n",
    "6. Створіть два вектори розміром 7, заповніть довільними числами та знайдіть їх скалярний добуток.\n",
    "7. Створіть дві матриці розміром 2x2 та 2x3, заповніть їх випадковими цілими числами в діапазоні від 1 до 10 та перемножте їх між собою.\n",
    "8. Створіть матрицю розміром 3x3, заповніть її випадковими цілими числами в діапазоні від 1 до 10 та знайдіть її обернену матрицю.\n",
    "9. Створіть матрицю розміром 4x4, заповніть її випадковими дійсними числами в діапазоні від 0 до 1 та транспонуйте її.\n",
    "10. Створіть матрицю розміром 3x4 та вектор розміром 4, заповніть їх випадковими цілими числами в діапазоні від 1 до 10 та перемножте матрицю на вектор.\n",
    "11. Створіть матрицю розміром 2x3 та вектор розміром 3, заповніть їх випадковими дійсними числами в діапазоні від 0 до 1 та перемножте матрицю на вектор.\n",
    "12. Створіть дві матриці розміром 2x2, заповніть їх випадковими цілими числами в діапазоні від 1 до 10 та виконайте їхнє поелементне множення.\n",
    "13. Створіть дві матриці розміром 2x2, заповніть їх випадковими цілими числами в діапазоні від 1 до 10 та знайдіть їх добуток.\n",
    "14. Створіть матрицю розміром 5x5, заповніть її випадковими цілими числами в діапазоні від 1 до 100 та знайдіть суму елементів матриці.\n",
    "15. Створіть дві матриці розміром 4x4, заповніть їх випадковими цілими числами в діапазоні від 1 до 10 та знайдіть їхню різницю.\n",
    "16. Створіть матрицю розміром 3x3, заповніть її випадковими дійсними числами в діапазоні від 0 до 1 та знайдіть вектор-стовпчик, що містить суму елементів кожного рядка матриці.\n",
    "17. Створіть матрицю розміром 3x4 з довільними цілими числами і створінь матрицю з квадратами цих чисел.\n",
    "18. Створіть вектор розміром 4, заповніть його випадковими цілими числами в діапазоні від 1 до 50 та знайдіть вектор з квадратними коренями цих чисел."
   ]
  },
  {
   "cell_type": "code",
   "execution_count": 1,
   "metadata": {},
   "outputs": [
    {
     "name": "stdout",
     "output_type": "stream",
     "text": [
      "task 1\n",
      "[ 1.  2.  3.  4.  5.  6.  7.  8.  9. 10. 11.]\n"
     ]
    }
   ],
   "source": [
    "print('task 1')\n",
    "\n",
    "import numpy as np\n",
    "\n",
    "a = np.array([1, 2, 3, 4, 5, 6, 7, 8, 9, 10, 11], dtype = float)\n",
    "print(a)"
   ]
  },
  {
   "cell_type": "code",
   "execution_count": 2,
   "metadata": {},
   "outputs": [
    {
     "name": "stdout",
     "output_type": "stream",
     "text": [
      "tast 2\n",
      "[[0 0 0]\n",
      " [0 0 0]\n",
      " [0 0 0]]\n"
     ]
    }
   ],
   "source": [
    "print('tast 2')\n",
    "\n",
    "a = np.array([[0, 0, 0],\n",
    "              [0, 0, 0],\n",
    "              [0, 0, 0]], dtype = int)\n",
    "print(a)"
   ]
  },
  {
   "cell_type": "code",
   "execution_count": 3,
   "metadata": {},
   "outputs": [
    {
     "name": "stdout",
     "output_type": "stream",
     "text": [
      "task 3\n",
      "[[1 9 7 2 9]\n",
      " [9 8 4 6 7]\n",
      " [3 2 2 8 7]\n",
      " [5 5 5 6 1]\n",
      " [4 3 2 9 6]]\n"
     ]
    }
   ],
   "source": [
    "print('task 3')\n",
    "\n",
    "a = np.random.randint(1, 10, size = (5, 5))\n",
    "print(a)"
   ]
  },
  {
   "cell_type": "code",
   "execution_count": 4,
   "metadata": {},
   "outputs": [
    {
     "name": "stdout",
     "output_type": "stream",
     "text": [
      "task 4\n",
      "[[0.13666727 0.23153064 0.67502935 0.76645679]\n",
      " [0.5426119  0.93119188 0.74446788 0.23333035]\n",
      " [0.13291131 0.66051838 0.77322216 0.50444632]\n",
      " [0.19317793 0.74962182 0.16927465 0.55047989]]\n"
     ]
    }
   ],
   "source": [
    "print('task 4')\n",
    "\n",
    "a = np.random.rand(4, 4)\n",
    "print(a)"
   ]
  },
  {
   "cell_type": "code",
   "execution_count": 5,
   "metadata": {},
   "outputs": [
    {
     "name": "stdout",
     "output_type": "stream",
     "text": [
      "task 5\n",
      "Вектор 1: [ 4  9 10  9  1]\n",
      "Вектор 2: [8 8 6 8 3]\n",
      "Сума: [12 17 16 17  4]\n",
      "Віднімання: [-4  1  4  1 -2]\n",
      "Множення: [32 72 60 72  3]\n"
     ]
    }
   ],
   "source": [
    "print ('task 5')\n",
    "\n",
    "a = np.random.randint(1, 11, size = (5))\n",
    "b = np.random.randint(1, 11, size = (5))\n",
    "\n",
    "print('Вектор 1:', a)\n",
    "print('Вектор 2:', b)\n",
    "\n",
    "sum_result = np.add(a, b)\n",
    "print('Сума:', sum_result)\n",
    "\n",
    "subtract_result = np.subtract(a, b)\n",
    "print('Віднімання:', subtract_result)\n",
    "\n",
    "multiply_result = np.multiply(a, b)\n",
    "print('Множення:', multiply_result)"
   ]
  },
  {
   "cell_type": "code",
   "execution_count": 6,
   "metadata": {},
   "outputs": [
    {
     "name": "stdout",
     "output_type": "stream",
     "text": [
      "task 6\n",
      "Скалярний добуток: 130\n"
     ]
    }
   ],
   "source": [
    "print('task 6')\n",
    "\n",
    "a = np.random.randint(1, 11, size = (7))\n",
    "b = np.random.randint(1, 11, size = (7))\n",
    "\n",
    "scalar_results = np.dot(a, b)\n",
    "print('Скалярний добуток:', scalar_results)"
   ]
  },
  {
   "cell_type": "code",
   "execution_count": 7,
   "metadata": {},
   "outputs": [
    {
     "name": "stdout",
     "output_type": "stream",
     "text": [
      "tast 8\n",
      "Початкова матриця:\n",
      "[[ 3  2  3]\n",
      " [ 8  2 10]\n",
      " [ 7  2  8]]\n",
      "Обернена матриця:\n",
      "[[-0.66666667 -1.66666667  2.33333333]\n",
      " [ 1.          0.5        -1.        ]\n",
      " [ 0.33333333  1.33333333 -1.66666667]]\n"
     ]
    }
   ],
   "source": [
    "print('tast 8')\n",
    "\n",
    "matrix = np.random.randint(1, 11, size=(3, 3))\n",
    "print('Початкова матриця:')\n",
    "print(matrix)\n",
    "\n",
    "inv_matrix = np.linalg.inv(matrix)\n",
    "print('Обернена матриця:')\n",
    "print(inv_matrix)\n"
   ]
  },
  {
   "cell_type": "code",
   "execution_count": 8,
   "metadata": {},
   "outputs": [
    {
     "name": "stdout",
     "output_type": "stream",
     "text": [
      "task 9\n",
      "Початкова матриця:\n",
      "[[0.94861073 0.72166133 0.42560696 0.17048029]\n",
      " [0.69976594 0.9749724  0.94356712 0.13006422]\n",
      " [0.10262061 0.13646629 0.95518254 0.5017693 ]\n",
      " [0.92075762 0.60614169 0.3317951  0.15521678]]\n",
      "Транспонована матриця:\n",
      "[[0.94861073 0.69976594 0.10262061 0.92075762]\n",
      " [0.72166133 0.9749724  0.13646629 0.60614169]\n",
      " [0.42560696 0.94356712 0.95518254 0.3317951 ]\n",
      " [0.17048029 0.13006422 0.5017693  0.15521678]]\n"
     ]
    }
   ],
   "source": [
    "print('task 9')\n",
    "\n",
    "matrix = np.random.rand(4, 4)\n",
    "print('Початкова матриця:')\n",
    "print(matrix)\n",
    "\n",
    "matrix_transpose = matrix.T\n",
    "print('Транспонована матриця:')\n",
    "print(matrix_transpose)"
   ]
  },
  {
   "cell_type": "code",
   "execution_count": 9,
   "metadata": {},
   "outputs": [
    {
     "name": "stdout",
     "output_type": "stream",
     "text": [
      "task 10\n",
      "Перемноження:\n",
      "[[80 54 80 16]\n",
      " [20 30 50 24]\n",
      " [20 18 70 80]]\n"
     ]
    }
   ],
   "source": [
    "print('task 10')\n",
    "\n",
    "matrix = np.random.randint(1, 11, size=(3, 4))\n",
    "a = np.random.randint(1, 11, size=(4))\n",
    "\n",
    "multiply_result = np.multiply(matrix, a)\n",
    "print('Перемноження:')\n",
    "print(multiply_result)"
   ]
  },
  {
   "cell_type": "code",
   "execution_count": 10,
   "metadata": {},
   "outputs": [
    {
     "name": "stdout",
     "output_type": "stream",
     "text": [
      "task 11\n",
      "Перемноження:\n",
      "[[0.91855718 0.08243688 0.21955725]\n",
      " [0.69597655 0.0360062  0.12273758]]\n"
     ]
    }
   ],
   "source": [
    "print('task 11')\n",
    "\n",
    "matrix = np.random.rand(2, 3)\n",
    "a = np.random.rand(3)\n",
    "\n",
    "multiply_result = np.multiply(matrix, a)\n",
    "print('Перемноження:')\n",
    "print(multiply_result)"
   ]
  },
  {
   "cell_type": "code",
   "execution_count": 11,
   "metadata": {},
   "outputs": [
    {
     "name": "stdout",
     "output_type": "stream",
     "text": [
      "task 12\n",
      "Перша матриця:\n",
      "[[4 5]\n",
      " [4 9]]\n",
      "Друга матриця:\n",
      "[[3 5]\n",
      " [2 3]]\n",
      "Перемноження:\n",
      "[[12 25]\n",
      " [ 8 27]]\n"
     ]
    }
   ],
   "source": [
    "print('task 12')\n",
    "\n",
    "matrix_1 = np.random.randint(1, 11, size=(2, 2))\n",
    "print('Перша матриця:')\n",
    "print(matrix_1)\n",
    "\n",
    "matrix_2 = np.random.randint(1, 11, size=(2, 2))\n",
    "print('Друга матриця:')\n",
    "print (matrix_2)\n",
    "\n",
    "multiply_result = np.multiply(matrix_1, matrix_2)\n",
    "print('Перемноження:')\n",
    "print(multiply_result)"
   ]
  },
  {
   "cell_type": "code",
   "execution_count": 12,
   "metadata": {},
   "outputs": [
    {
     "name": "stdout",
     "output_type": "stream",
     "text": [
      "task 13\n",
      "Перша матриця:\n",
      "[[3 2]\n",
      " [3 7]]\n",
      "Друга матриця:\n",
      "[[ 4  2]\n",
      " [10  2]]\n",
      "Добуток:\n",
      "[[32 10]\n",
      " [82 20]]\n"
     ]
    }
   ],
   "source": [
    "print('task 13')\n",
    "\n",
    "matrix_1 = np.random.randint(1, 11, size=(2, 2))\n",
    "print('Перша матриця:')\n",
    "print(matrix_1)\n",
    "\n",
    "matrix_2 = np.random.randint(1, 11, size=(2, 2))\n",
    "print('Друга матриця:')\n",
    "print (matrix_2)\n",
    "\n",
    "dot_result = np.dot(matrix_1, matrix_2)\n",
    "print('Добуток:')\n",
    "print(dot_result)"
   ]
  },
  {
   "cell_type": "code",
   "execution_count": 13,
   "metadata": {},
   "outputs": [
    {
     "name": "stdout",
     "output_type": "stream",
     "text": [
      "task 14\n",
      "Сума елементів: 1282\n"
     ]
    }
   ],
   "source": [
    "print ('task 14')\n",
    "\n",
    "matrix = np.random.randint(1, 101, size=(5, 5))\n",
    "print('Сума елементів:', matrix.sum())"
   ]
  },
  {
   "cell_type": "code",
   "execution_count": 14,
   "metadata": {},
   "outputs": [
    {
     "name": "stdout",
     "output_type": "stream",
     "text": [
      "task 15\n",
      "Перша матриця:\n",
      "[[ 2  8 10  2]\n",
      " [ 9  3  9  8]\n",
      " [ 5  8  8  9]\n",
      " [ 8  8  5  1]]\n",
      "Друга матриця:\n",
      "[[ 2  2  7 10]\n",
      " [ 1  5  3  4]\n",
      " [ 7  8  2  3]\n",
      " [ 5  8  5  9]]\n",
      "Різниця:\n",
      "[[ 0  6  3 -8]\n",
      " [ 8 -2  6  4]\n",
      " [-2  0  6  6]\n",
      " [ 3  0  0 -8]]\n"
     ]
    }
   ],
   "source": [
    "print ('task 15')\n",
    "\n",
    "matrix_1 = np.random.randint(1, 11, size = (4, 4))\n",
    "print('Перша матриця:')\n",
    "print(matrix_1)\n",
    "\n",
    "matrix_2 = np.random.randint(1, 11, size = (4, 4))\n",
    "print('Друга матриця:')\n",
    "print(matrix_2)\n",
    "\n",
    "subtract_result = np.subtract(matrix_1, matrix_2)\n",
    "print('Різниця:')\n",
    "print(subtract_result)"
   ]
  },
  {
   "cell_type": "code",
   "execution_count": 15,
   "metadata": {},
   "outputs": [
    {
     "name": "stdout",
     "output_type": "stream",
     "text": [
      "task 16\n",
      "Початкова матриця:\n",
      "[[0.59263393 0.18304458 0.1787747 ]\n",
      " [0.60658077 0.02542924 0.46298368]\n",
      " [0.17579495 0.90562528 0.96042034]]\n",
      "Вектор-стовпчик з сумами елементів кожного рядка:\n",
      "[[0.95445321]\n",
      " [1.09499369]\n",
      " [2.04184056]]\n"
     ]
    }
   ],
   "source": [
    "print('task 16')\n",
    "\n",
    "matrix = np.random.rand(3, 3)\n",
    "print(\"Початкова матриця:\")\n",
    "print(matrix)\n",
    "\n",
    "\n",
    "row_sums = np.sum(matrix, axis=1, keepdims=True)\n",
    "print('Вектор-стовпчик з сумами елементів кожного рядка:')\n",
    "print(row_sums)\n"
   ]
  },
  {
   "cell_type": "code",
   "execution_count": 16,
   "metadata": {},
   "outputs": [
    {
     "name": "stdout",
     "output_type": "stream",
     "text": [
      "task 17\n",
      "Початкова матриця:\n",
      "[[10  6 10  4]\n",
      " [10  2  8  9]\n",
      " [ 8  4  5  5]]\n",
      "Матриця з квадратами чисел:\n",
      "[[100  36 100  16]\n",
      " [100   4  64  81]\n",
      " [ 64  16  25  25]]\n"
     ]
    }
   ],
   "source": [
    "print('task 17')\n",
    "\n",
    "matrix = np.random.randint(1, 11, size=(3, 4))\n",
    "print(\"Початкова матриця:\")\n",
    "print(matrix)\n",
    "\n",
    "squared_matrix = np.square(matrix)\n",
    "\n",
    "print(\"Матриця з квадратами чисел:\")\n",
    "print(squared_matrix)\n"
   ]
  },
  {
   "cell_type": "code",
   "execution_count": 17,
   "metadata": {},
   "outputs": [
    {
     "name": "stdout",
     "output_type": "stream",
     "text": [
      "task 18\n",
      "Початковий вектор:\n",
      "[ 9 35  3 42]\n",
      "Вектор з квадратними коренями:\n",
      "[3.         5.91607978 1.73205081 6.4807407 ]\n"
     ]
    }
   ],
   "source": [
    "print('task 18')\n",
    "\n",
    "vector = np.random.randint(1, 51, size=(4))\n",
    "print(\"Початковий вектор:\")\n",
    "print(vector)\n",
    "\n",
    "vector_sqrt = np.sqrt(vector)\n",
    "print(\"Вектор з квадратними коренями:\")\n",
    "print(vector_sqrt)\n"
   ]
  }
 ],
 "metadata": {
  "kernelspec": {
   "display_name": "Python 3",
   "language": "python",
   "name": "python3"
  },
  "language_info": {
   "codemirror_mode": {
    "name": "ipython",
    "version": 3
   },
   "file_extension": ".py",
   "mimetype": "text/x-python",
   "name": "python",
   "nbconvert_exporter": "python",
   "pygments_lexer": "ipython3",
   "version": "3.11.3"
  },
  "orig_nbformat": 4
 },
 "nbformat": 4,
 "nbformat_minor": 2
}
